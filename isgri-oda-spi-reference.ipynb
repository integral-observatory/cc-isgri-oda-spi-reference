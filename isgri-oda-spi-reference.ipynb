{
 "cells": [
  {
   "cell_type": "code",
   "execution_count": 1,
   "metadata": {
    "tags": [
     "parameters"
    ]
   },
   "outputs": [],
   "source": [
    "subcases_pattern=\"_1934\" \n",
    "reference_location=\"../..\" \n",
    "source_name=\"MAXI J1820+070\"\n",
    "osa_version='OSA11.0'\n",
    "nscw=3\n",
    "mosaic=0\n",
    "chi2_limit=1.2\n",
    "systematic_fraction=0.01"
   ]
  },
  {
   "cell_type": "code",
   "execution_count": 2,
   "metadata": {},
   "outputs": [],
   "source": [
    "if reference_location == \"None\": # shortcut of C.\n",
    "    reference_location = \"https://www.isdc.unige.ch/~ferrigno/Downloads/subcases_herX1_spi.tgz\"\n",
    "    \n",
    "if reference_location.startswith(\"http://\") or reference_location.startswith(\"https://\"):\n",
    "    import tarfile\n",
    "    import requests\n",
    "    import io\n",
    "    import gzip\n",
    "    \n",
    "    f = gzip.open(io.BytesIO(requests.get(reference_location).content), \"rb\")\n",
    "    \n",
    "    \n",
    "    with tarfile.TarFile(fileobj=f,  encoding=\"UTF-8\") as tf:\n",
    "        print(tf.getmembers())\n",
    "        tf.extractall()\n",
    "        \n",
    "    reference_location='.'"
   ]
  },
  {
   "cell_type": "markdown",
   "metadata": {},
   "source": [
    "#  ISGRI verification with SPI reference \n",
    "\n",
    "simultaneous observations allow easy comparisong\n",
    "\n",
    "one should take care to have the same effective selection\n",
    "\n",
    "normalization need to be fitted and reported"
   ]
  },
  {
   "cell_type": "code",
   "execution_count": 3,
   "metadata": {},
   "outputs": [],
   "source": [
    "%matplotlib notebook\n",
    "#import matplotlib.pylab as plt\n",
    "\n",
    "\n",
    "import importlib\n",
    "from astroquery.simbad import Simbad\n",
    "from astropy import coordinates as coord\n",
    "import os\n",
    "import numpy as np\n",
    "import pandas as pd\n",
    "import glob\n"
   ]
  },
  {
   "cell_type": "code",
   "execution_count": 9,
   "metadata": {},
   "outputs": [
    {
     "name": "stdout",
     "output_type": "stream",
     "text": [
      "found subcase in reference location dir: ../../subcases/Maxi_J1820_1934\n",
      "read reference sources:    X  Y          RA        Dec  peak_counts  RMS  exposure  arcmin_to_cat  \\\n",
      "0  0  0  288.794617  10.955665            1    1         1              0   \n",
      "1  0  0  275.090240   7.186825            1    1         1              0   \n",
      "\n",
      "      association  \n",
      "0    GRS 1915+105  \n",
      "1  MAXI J1820+070  \n",
      "found ../../subcases/Maxi_J1820_1934 spectrum_M1820N1MAXI1820sp32CV1920_photo_MAXI1820_00001corr.fits 48 2    X  Y          RA        Dec  peak_counts  RMS  exposure  arcmin_to_cat  \\\n",
      "0  0  0  288.794617  10.955665            1    1         1              0   \n",
      "1  0  0  275.090240   7.186825            1    1         1              0   \n",
      "\n",
      "      association  \n",
      "0    GRS 1915+105  \n",
      "1  MAXI J1820+070  \n"
     ]
    },
    {
     "data": {
      "text/plain": [
       "('spectrum_M1820N1MAXI1820sp32CV1920_photo_MAXI1820_00001corr.fits',\n",
       " 'rmf_M1820N1MAXI1820sp32CV1920_photo_MAXI1820_00001.fits',\n",
       " ['193400090010',\n",
       "  '193400100010',\n",
       "  '193400110010',\n",
       "  '193400120010',\n",
       "  '193400130010',\n",
       "  '193400140010',\n",
       "  '193400150010',\n",
       "  '193400160010',\n",
       "  '193400170010',\n",
       "  '193400180010',\n",
       "  '193400190010',\n",
       "  '193400200010',\n",
       "  '193400210010',\n",
       "  '193400220010',\n",
       "  '193400230010',\n",
       "  '193400240010',\n",
       "  '193400250010',\n",
       "  '193400260010',\n",
       "  '193400270010',\n",
       "  '193400280010',\n",
       "  '193400290010',\n",
       "  '193400300010',\n",
       "  '193400310010',\n",
       "  '193400320010',\n",
       "  '193400330010',\n",
       "  '193400340010',\n",
       "  '193400350010',\n",
       "  '193400360010',\n",
       "  '193400370010',\n",
       "  '193400380010',\n",
       "  '193400390010',\n",
       "  '193400400010',\n",
       "  '193400410010',\n",
       "  '193400420010',\n",
       "  '193400430010',\n",
       "  '193400440010',\n",
       "  '193400450010',\n",
       "  '193400460010',\n",
       "  '193400470010',\n",
       "  '193400480010',\n",
       "  '193400490010',\n",
       "  '193400500010',\n",
       "  '193400510010',\n",
       "  '193400520010',\n",
       "  '193400530010',\n",
       "  '193400540010',\n",
       "  '193400550010',\n",
       "  '193400560010'])"
      ]
     },
     "execution_count": 9,
     "metadata": {},
     "output_type": "execute_result"
    }
   ],
   "source": [
    "\n",
    "subcase=None\n",
    "\n",
    "reference_spectrum = None\n",
    "reference_rmf = None\n",
    "scwlist=None\n",
    "\n",
    "subcases_tried = []\n",
    "\n",
    "for subcase_dir in glob.glob(reference_location+\"/subcases/*\"+subcases_pattern+\"*\"):\n",
    "    print(\"found subcase in reference location dir:\", subcase_dir)\n",
    "    \n",
    "    fns = [os.path.basename(fn) for fn in glob.glob(subcase_dir+\"/*\")]\n",
    "    \n",
    "    try:\n",
    "        reference_spectrum = [fn for fn in fns if fn.startswith(\"spectrum\")][0]\n",
    "        scwlist = open(subcase_dir+\"/ISGRI_scw_list.txt\").read().split()       \n",
    "        \n",
    "        reference_rmf = sorted([fn for fn in fns if fn.startswith(\"rmf_\")])[-1]\n",
    "    except Exception as e: \n",
    "        print(\"failed to find spi rmf/spec have\",fns, \"exception:\", e)\n",
    "        \n",
    "        subcases_tried.append(f\"{subcase_dir}: {e}, files {fns}\")\n",
    "        \n",
    "        continue\n",
    "    \n",
    "    if os.path.exists(subcase_dir+\"/ISGRI_sources.txt\"):\n",
    "        ref_sources = pd.read_csv(subcase_dir+\"/ISGRI_sources.txt\", delimiter=\",\")\n",
    "        print(\"read reference sources:\", ref_sources)\n",
    "    else:\n",
    "        print(\"no reference sources, will use empty\")\n",
    "        ref_sources = []\n",
    "            \n",
    "    reference_dir=subcase_dir\n",
    "    \n",
    "       \n",
    "    break\n",
    "\n",
    "if scwlist is None:    \n",
    "    print(\"unable to find spi: will NOT try without\")\n",
    "    raise Exception(f\"subcase is not complete: no SPI or ISGRI data found, tried: {'; '.join(subcases_tried)}\")\n",
    "\n",
    "    \n",
    "print(\"found\",reference_dir, reference_spectrum, len(scwlist),len(ref_sources), ref_sources)\n",
    "\n",
    "    \n",
    "reference_spectrum, reference_rmf, scwlist"
   ]
  },
  {
   "cell_type": "code",
   "execution_count": 10,
   "metadata": {},
   "outputs": [
    {
     "data": {
      "text/html": [
       "<div>\n",
       "<style scoped>\n",
       "    .dataframe tbody tr th:only-of-type {\n",
       "        vertical-align: middle;\n",
       "    }\n",
       "\n",
       "    .dataframe tbody tr th {\n",
       "        vertical-align: top;\n",
       "    }\n",
       "\n",
       "    .dataframe thead th {\n",
       "        text-align: right;\n",
       "    }\n",
       "</style>\n",
       "<table border=\"1\" class=\"dataframe\">\n",
       "  <thead>\n",
       "    <tr style=\"text-align: right;\">\n",
       "      <th></th>\n",
       "      <th>X</th>\n",
       "      <th>Y</th>\n",
       "      <th>RA</th>\n",
       "      <th>Dec</th>\n",
       "      <th>peak_counts</th>\n",
       "      <th>RMS</th>\n",
       "      <th>exposure</th>\n",
       "      <th>arcmin_to_cat</th>\n",
       "      <th>association</th>\n",
       "    </tr>\n",
       "  </thead>\n",
       "  <tbody>\n",
       "    <tr>\n",
       "      <th>0</th>\n",
       "      <td>0</td>\n",
       "      <td>0</td>\n",
       "      <td>288.794617</td>\n",
       "      <td>10.955665</td>\n",
       "      <td>1</td>\n",
       "      <td>1</td>\n",
       "      <td>1</td>\n",
       "      <td>0</td>\n",
       "      <td>GRS 1915+105</td>\n",
       "    </tr>\n",
       "    <tr>\n",
       "      <th>1</th>\n",
       "      <td>0</td>\n",
       "      <td>0</td>\n",
       "      <td>275.090240</td>\n",
       "      <td>7.186825</td>\n",
       "      <td>1</td>\n",
       "      <td>1</td>\n",
       "      <td>1</td>\n",
       "      <td>0</td>\n",
       "      <td>MAXI J1820+070</td>\n",
       "    </tr>\n",
       "  </tbody>\n",
       "</table>\n",
       "</div>"
      ],
      "text/plain": [
       "   X  Y          RA        Dec  peak_counts  RMS  exposure  arcmin_to_cat  \\\n",
       "0  0  0  288.794617  10.955665            1    1         1              0   \n",
       "1  0  0  275.090240   7.186825            1    1         1              0   \n",
       "\n",
       "      association  \n",
       "0    GRS 1915+105  \n",
       "1  MAXI J1820+070  "
      ]
     },
     "execution_count": 10,
     "metadata": {},
     "output_type": "execute_result"
    }
   ],
   "source": [
    "ref_sources"
   ]
  },
  {
   "cell_type": "code",
   "execution_count": 7,
   "metadata": {},
   "outputs": [
    {
     "data": {
      "text/html": [
       "<i>Table length=1</i>\n",
       "<table id=\"table140051528375936\" class=\"table-striped table-bordered table-condensed\">\n",
       "<thead><tr><th>MAIN_ID</th><th>RA</th><th>DEC</th><th>RA_PREC</th><th>DEC_PREC</th><th>COO_ERR_MAJA</th><th>COO_ERR_MINA</th><th>COO_ERR_ANGLE</th><th>COO_QUAL</th><th>COO_WAVELENGTH</th><th>COO_BIBCODE</th></tr></thead>\n",
       "<thead><tr><th></th><th>&quot;h:m:s&quot;</th><th>&quot;d:m:s&quot;</th><th></th><th></th><th>mas</th><th>mas</th><th>deg</th><th></th><th></th><th></th></tr></thead>\n",
       "<thead><tr><th>object</th><th>str13</th><th>str13</th><th>int16</th><th>int16</th><th>float32</th><th>float32</th><th>int16</th><th>str1</th><th>str1</th><th>object</th></tr></thead>\n",
       "<tr><td>MAXI J1820+070</td><td>18 20 21.9424</td><td>+07 11 07.278</td><td>14</td><td>14</td><td>0.102</td><td>0.119</td><td>90</td><td>A</td><td>O</td><td>2018yCat.1345....0G</td></tr>\n",
       "</table>"
      ],
      "text/plain": [
       "<Table length=1>\n",
       "   MAIN_ID           RA      ... COO_WAVELENGTH     COO_BIBCODE    \n",
       "                  \"h:m:s\"    ...                                   \n",
       "    object         str13     ...      str1             object      \n",
       "-------------- ------------- ... -------------- -------------------\n",
       "MAXI J1820+070 18 20 21.9424 ...              O 2018yCat.1345....0G"
      ]
     },
     "execution_count": 7,
     "metadata": {},
     "output_type": "execute_result"
    }
   ],
   "source": [
    "result_table = Simbad.query_object(source_name)\n",
    "\n",
    "if result_table is None:\n",
    "    print(f\"\\033[31mdid not find any Simbad results for {source_name}\\033[0m\")\n",
    "    raise RuntimeError(f\"\\033[31mdid not find any Simbad results for {source_name}\\033[0m\")\n",
    "\n",
    "source_coord = coord.SkyCoord(result_table['RA'][0], result_table['DEC'][0], unit=(\"hourangle\", \"deg\"))\n",
    "\n",
    "\n",
    "result_table"
   ]
  },
  {
   "cell_type": "code",
   "execution_count": 8,
   "metadata": {},
   "outputs": [
    {
     "name": "stdout",
     "output_type": "stream",
     "text": [
      "50\n"
     ]
    },
    {
     "data": {
      "text/plain": [
       "'193400330010.001,193400350010.001,193400110010.001'"
      ]
     },
     "execution_count": 8,
     "metadata": {},
     "output_type": "execute_result"
    }
   ],
   "source": [
    "import random\n",
    "if nscw >0:\n",
    "    random.seed(0)\n",
    "    cleaned_list = [\n",
    "                s+\".\"+\"001\"\n",
    "                for s in list(sorted(set( scwlist  ))) \n",
    "                if s.endswith(\"0010\")\n",
    "            ]\n",
    "    if len(cleaned_list) > nscw:\n",
    "        scw_pick = random.sample(cleaned_list,nscw)\n",
    "    else:\n",
    "        print(\"nscw (%d) > than available scw (%d), using them all\"%(nscw,len(cleaned_list)))\n",
    "        scw_pick = cleaned_list\n",
    "\n",
    "\n",
    "    scw_list_str = \",\".join(scw_pick)\n",
    "else:\n",
    "    scw_list_str=\",\".join([s+\".\"+\"001\" for s in sorted(set( scwlist  ))])\n",
    "\n",
    "print(len(scw_list_str))\n",
    "\n",
    "scw_list_str"
   ]
  },
  {
   "cell_type": "code",
   "execution_count": null,
   "metadata": {},
   "outputs": [],
   "source": [
    "import oda_api.api\n",
    "import importlib\n",
    "importlib.reload(oda_api)\n",
    "\n",
    "# osa versions with '-' use ic root version, only available on staging-1-3\n",
    "print('will find appropriate API for OSA version', osa_version)\n",
    "if '-' in osa_version:\n",
    "    print('osa version has subversion - will use staging-1-3')\n",
    "    disp = oda_api.api.DispatcherAPI(host=\"http://in.internal.odahub.io/staging-1-3/dispatcher\")\n",
    "else:\n",
    "    try:\n",
    "        disp = oda_api.api.DispatcherAPI(host=\"http://cdcihn.isdc.unige.ch/staging/dispatcher\")\n",
    "        disp.get_instrument_description(\"isgri\")    \n",
    "    except Exception as e:\n",
    "        print('\\033[31mFAILED to access staging-1-2, will proceed to query production: note that it can not access private data!\\033[0m')\n",
    "        print('\\033[31mexception was: ', e,'\\033[0m')\n",
    "        try:\n",
    "            disp = oda_api.api.DispatcherAPI(host='https://www.astro.unige.ch/cdci/astrooda/dispatch-data')\n",
    "            disp.get_instrument_description(\"isgri\")\n",
    "        except:\n",
    "            raise ConnectionError\n",
    "\n",
    "\n"
   ]
  },
  {
   "cell_type": "code",
   "execution_count": 25,
   "metadata": {},
   "outputs": [
    {
     "name": "stdout",
     "output_type": "stream",
     "text": [
      "Found api catalog in file  ../../subcases/Maxi_J1820_1934/api_cat_str_MAXI_J1820p070.txt\n"
     ]
    }
   ],
   "source": [
    "from glob import glob\n",
    "\n",
    "api_file_list =  glob(subcase_dir+\"/api_cat_str_*.txt\")\n",
    "if len(api_file_list) == 0:\n",
    "    api_cat_exist = False\n",
    "else:\n",
    "    print('Found api catalog in file ', api_file_list[0])\n",
    "    api_cat_exist = True"
   ]
  },
  {
   "cell_type": "code",
   "execution_count": 17,
   "metadata": {},
   "outputs": [],
   "source": [
    "if not api_cat_exist:\n",
    "    image = disp.get_product(instrument=\"isgri\", \n",
    "                     product=\"isgri_image\", \n",
    "                     product_type=\"Real\", \n",
    "                     osa_version=osa_version,\n",
    "                     E1_keV=30.0,\n",
    "                     E2_keV=80.0,\n",
    "                     scw_list=scw_list_str)\n"
   ]
  },
  {
   "cell_type": "code",
   "execution_count": 18,
   "metadata": {},
   "outputs": [],
   "source": [
    "from astropy import table\n",
    "if not api_cat_exist:\n",
    "    \n",
    "    sources=image.dispatcher_catalog_1.table[image.dispatcher_catalog_1.table['significance']>=6.0]\n",
    "    #source = sources[sources['src_names']==source_name]\n",
    "    unique_sources=table.unique(sources, keys=['src_names'])\n",
    "\n",
    "    unique_sources"
   ]
  },
  {
   "cell_type": "code",
   "execution_count": 19,
   "metadata": {},
   "outputs": [],
   "source": [
    "if not api_cat_exist:\n",
    "    \n",
    "    ##Removes new sources and adds our if not found\n",
    "    FLAG=0\n",
    "    torm=[]\n",
    "    for ID,n in enumerate(unique_sources['src_names']):\n",
    "        if(n[0:3]=='NEW'):\n",
    "            torm.append(ID)\n",
    "        if(n==source_name):\n",
    "            FLAG=1\n",
    "\n",
    "    unique_sources.remove_rows(torm)\n",
    "    nrows=len(unique_sources['src_names'])\n",
    "\n",
    "    if FLAG==0:\n",
    "        unique_sources.add_row((0,source_name,0,source_coord.ra.deg,source_coord.dec.deg,0,2,0,0))\n",
    "\n",
    "    image.dispatcher_catalog_1.table = unique_sources\n",
    "\n",
    "    api_cat=image.dispatcher_catalog_1.get_api_dictionary()\n",
    "\n",
    "    api_cat"
   ]
  },
  {
   "cell_type": "code",
   "execution_count": 24,
   "metadata": {},
   "outputs": [
    {
     "name": "stdout",
     "output_type": "stream",
     "text": [
      "{\"cat_frame\": \"fk5\", \"cat_coord_units\": \"deg\", \"cat_column_list\": [[17, 84], [\"GRS 1915+105\", \"MAXI J1820+070\"], [35.89909744262695, 2437.84912109375], [288.79461669921875, 275.0902404785156], [10.95566463470459, 7.186824798583984], [-32768, -32768], [2, 2], [0, 1], [0.0002800000074785203, 0.00041666667675599456]], \"cat_column_names\": [\"meta_ID\", \"src_names\", \"significance\", \"ra\", \"dec\", \"NEW_SOURCE\", \"ISGRI_FLAG\", \"FLAG\", \"ERR_RAD\"], \"cat_column_descr\": [[\"meta_ID\", \"<i8\"], [\"src_names\", \"<U11\"], [\"significance\", \"<f8\"], [\"ra\", \"<f8\"], [\"dec\", \"<f8\"], [\"NEW_SOURCE\", \"<i8\"], [\"ISGRI_FLAG\", \"<i8\"], [\"FLAG\", \"<i8\"], [\"ERR_RAD\", \"<f8\"]], \"cat_lat_name\": \"dec\", \"cat_lon_name\": \"ra\"}\n"
     ]
    }
   ],
   "source": [
    "import json\n",
    "if api_cat_exist:\n",
    "    with open(api_file_list[0]) as ff:\n",
    "        api_cat = json.dumps(json.load(ff))\n",
    "    print(api_cat)"
   ]
  },
  {
   "cell_type": "code",
   "execution_count": null,
   "metadata": {},
   "outputs": [],
   "source": [
    "spectrum = disp.get_product(instrument=\"isgri\", \n",
    "                 product=\"isgri_spectrum\", \n",
    "                 product_type=\"Real\", \n",
    "                 osa_version=osa_version,\n",
    "                 E1_keV=25.0,\n",
    "                 E2_keV=80.0,\n",
    "                 scw_list=scw_list_str,\n",
    "                 selected_cat=api_cat)"
   ]
  },
  {
   "cell_type": "code",
   "execution_count": null,
   "metadata": {},
   "outputs": [],
   "source": [
    "for l in spectrum._p_list:\n",
    "    print(l.meta_data)"
   ]
  },
  {
   "cell_type": "code",
   "execution_count": null,
   "metadata": {},
   "outputs": [],
   "source": [
    "specprod=[l for l in spectrum._p_list if l.meta_data['src_name'] == source_name]    \n",
    "\n",
    "spec_fn=\"/tmp/isgri_spectrum_{}.fits\".format(source_name.replace(' ', '_').replace('+','p'))\n",
    "arf_fn=\"/tmp/isgri_arf_{}.fits\".format(source_name.replace(' ', '_').replace('+','p'))\n",
    "rmf_fn=\"/tmp/isgri_rmf_{}.fits\".format(source_name.replace(' ', '_').replace('+','p'))\n",
    "\n",
    "specprod[0].write_fits_file(spec_fn)\n",
    "specprod[1].write_fits_file(arf_fn)\n",
    "specprod[2].write_fits_file(rmf_fn)"
   ]
  },
  {
   "cell_type": "code",
   "execution_count": null,
   "metadata": {},
   "outputs": [],
   "source": [
    "\n",
    "from IPython.display import Image\n",
    "from IPython.display import display \n",
    "import xspec\n",
    "import shutil\n",
    "\n"
   ]
  },
  {
   "cell_type": "code",
   "execution_count": null,
   "metadata": {},
   "outputs": [],
   "source": [
    "from astropy.io import fits\n",
    "\n",
    "if reference_spectrum is not None:\n",
    "    f=fits.open(reference_dir+\"/\"+reference_spectrum)\n",
    "\n",
    "    try:\n",
    "        f[2].header['RESPFILE'] = 'NONE'\n",
    "    except:\n",
    "        f=fits.HDUList([f[0],fits.ImageHDU(),f[1]])\n",
    "        f[2].header['RESPFILE'] = 'NONE'\n",
    "\n",
    "    #f[2].header['RESPFILE']\n",
    "\n",
    "    f.writeto(\"reference_spec.fits\", overwrite=True)\n",
    "\n",
    "    f=fits.open(reference_dir+\"/\"+reference_rmf)\n",
    "    f.writeto(\"reference_rmf.fits\", overwrite=True)\n",
    "    \n",
    "    reference_spec=\"reference_spec.fits\"\n",
    "    reference_rmf=\"reference_rmf.fits\"\n",
    "else:\n",
    "    reference_spec=\"NONE\"\n",
    "    reference_rmf=\"NONE\"\n",
    "\n",
    "    "
   ]
  },
  {
   "cell_type": "code",
   "execution_count": null,
   "metadata": {
    "tags": [
     "outputs"
    ]
   },
   "outputs": [],
   "source": [
    "reference_spec=reference_spec\n",
    "reference_rmf=reference_rmf\n",
    "isgri_spec=spec_fn\n",
    "isgri_arf=arf_fn\n",
    "isgri_rmf=rmf_fn"
   ]
  }
 ],
 "metadata": {
  "celltoolbar": "Tags",
  "kernelspec": {
   "display_name": "Python 3",
   "language": "python",
   "name": "python3"
  },
  "language_info": {
   "codemirror_mode": {
    "name": "ipython",
    "version": 3
   },
   "file_extension": ".py",
   "mimetype": "text/x-python",
   "name": "python",
   "nbconvert_exporter": "python",
   "pygments_lexer": "ipython3",
   "version": "3.8.5"
  }
 },
 "nbformat": 4,
 "nbformat_minor": 2
}
