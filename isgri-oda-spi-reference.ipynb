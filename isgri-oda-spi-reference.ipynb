{
 "cells": [
  {
   "cell_type": "code",
   "execution_count": null,
   "metadata": {
    "tags": [
     "parameters"
    ]
   },
   "outputs": [],
   "source": [
    "subcases_pattern=\"_1\"\n",
    "reference_location=\"None\"\n",
    "source_name=\"Her X-1\"\n",
    "osa_version='OSA11.0'\n",
    "nscw=3\n",
    "mosaic=0\n",
    "chi2_limit=1.2\n",
    "systematic_fraction=0.01"
   ]
  },
  {
   "cell_type": "code",
   "execution_count": null,
   "metadata": {},
   "outputs": [],
   "source": [
    "if reference_location == 'None':\n",
    "    import subprocess\n",
    "    logfile_name = 'log_download_reference.txt'\n",
    "    logfile = open(logfile_name, 'w')\n",
    "    cmd = 'wget https://www.isdc.unige.ch/~ferrigno/Downloads/subcases_herX1_spi.tgz;tar xfz subcases_herX1_spi.tgz;rm subcases_herX1_spi.tgz'\n",
    "    # cmd='pwd;ls'\n",
    "    out = subprocess.call(cmd, stdout=logfile, stderr=logfile, shell=True)\n",
    "    logfile.close()\n",
    "    if out != 0:\n",
    "        print('Exit status of download and decompression is %d')\n",
    "        raise RuntimeError\n",
    "    \n",
    "    reference_location='.'"
   ]
  },
  {
   "cell_type": "markdown",
   "metadata": {},
   "source": [
    "#  ISGRI verification with SPI reference\n",
    "\n",
    "simultaneous observations allow easy comparisong\n",
    "\n",
    "one should take care to have the same effective selection\n",
    "\n",
    "normalization need to be fitted and reported"
   ]
  },
  {
   "cell_type": "code",
   "execution_count": null,
   "metadata": {},
   "outputs": [],
   "source": [
    "%matplotlib notebook\n",
    "#import matplotlib.pylab as plt\n",
    "\n",
    "\n",
    "import numpy as np\n",
    "import importlib\n",
    "from astroquery.simbad import Simbad\n",
    "from astropy import coordinates as coord\n",
    "import os\n",
    "import numpy as np\n",
    "import glob\n"
   ]
  },
  {
   "cell_type": "code",
   "execution_count": null,
   "metadata": {},
   "outputs": [],
   "source": [
    "reference_location\n",
    "\n",
    "# if reference_location  not git or http may be a problem\n",
    "# dependency injection for this, if can"
   ]
  },
  {
   "cell_type": "code",
   "execution_count": null,
   "metadata": {},
   "outputs": [],
   "source": [
    "\n",
    "subcase=None\n",
    "\n",
    "reference_spectrum = None\n",
    "\n",
    "for subcase_dir in glob.glob(reference_location+\"/subcases/*\"+subcases_pattern+\"*\"):\n",
    "    print(\"inspecting\", subcase_dir)\n",
    "    \n",
    "    fns = [os.path.basename(fn) for fn in glob.glob(subcase_dir+\"/*\")]\n",
    "    \n",
    "    try:\n",
    "        reference_spectrum = [fn for fn in fns if fn.startswith(\"spectrum\")][0]\n",
    "        scwlist = open(subcase_dir+\"/ISGRI_scw_list.txt\").read().split()       \n",
    "        \n",
    "        reference_rmf = sorted([fn for fn in fns if fn.startswith(\"rmf_\")])[-1]\n",
    "    except: continue\n",
    "    \n",
    "    try:\n",
    "        ref_sources = np.genfromtxt(subcase_dir+\"/ISGRI_sources.txt\", delimiter=\",\", names=True)\n",
    "    except:\n",
    "        ref_sources = []\n",
    "        \n",
    "    #print(fns)\n",
    "    \n",
    "    reference_dir=subcase_dir\n",
    "    \n",
    "    print(\"found\",reference_dir, reference_spectrum, len(scwlist),len(ref_sources), ref_sources)\n",
    "        \n",
    "    break\n",
    "        \n",
    "reference_spectrum, reference_rmf, scwlist"
   ]
  },
  {
   "cell_type": "code",
   "execution_count": null,
   "metadata": {},
   "outputs": [],
   "source": [
    "result_table = Simbad.query_object(source_name)\n",
    "source_coord = coord.SkyCoord(result_table['RA'][0], result_table['DEC'][0], unit=(\"hourangle\", \"deg\"))\n",
    "\n",
    "result_table"
   ]
  },
  {
   "cell_type": "code",
   "execution_count": null,
   "metadata": {},
   "outputs": [],
   "source": [
    "import random\n",
    "if nscw >0:\n",
    "    random.seed(0)\n",
    "    scw_pick = random.sample([\n",
    "                s+\".\"+\"001\"\n",
    "                for s in list(sorted(set( scwlist  ))) \n",
    "                if s.endswith(\"0010\")\n",
    "            ],nscw)\n",
    "\n",
    "\n",
    "    scw_list_str = \",\".join(scw_pick)\n",
    "else:\n",
    "    scw_list_str=\",\".join([s+\".\"+\"001\" for s in sorted(set( scwlist  ))])\n",
    "\n",
    "print(len(scw_list_str))\n",
    "\n",
    "scw_list_str"
   ]
  },
  {
   "cell_type": "code",
   "execution_count": null,
   "metadata": {},
   "outputs": [],
   "source": [
    "import oda_api.api\n",
    "import importlib\n",
    "importlib.reload(oda_api)\n",
    "\n",
    "try:\n",
    "    disp = oda_api.api.DispatcherAPI(host=\"http://cdcihn/staging-1.2/dispatcher\")\n",
    "    disp.get_instrument_description(\"isgri\")    \n",
    "except:\n",
    "    try:\n",
    "        disp = oda_api.api.DispatcherAPI(host='https://www.astro.unige.ch/cdci/astrooda/dispatch-data')\n",
    "        disp.get_instrument_description(\"isgri\")\n",
    "    except:\n",
    "        raise ConnectionError\n",
    "\n",
    "\n"
   ]
  },
  {
   "cell_type": "code",
   "execution_count": null,
   "metadata": {},
   "outputs": [],
   "source": [
    "image = disp.get_product(instrument=\"isgri\", \n",
    "                 product=\"isgri_image\", \n",
    "                 product_type=\"Real\", \n",
    "                 osa_version=osa_version,\n",
    "                 E1_keV=25.0,\n",
    "                 E2_keV=80.0,\n",
    "                 scw_list=scw_list_str)\n"
   ]
  },
  {
   "cell_type": "code",
   "execution_count": null,
   "metadata": {},
   "outputs": [],
   "source": [
    "from astropy import table\n",
    "sources=image.dispatcher_catalog_1.table[image.dispatcher_catalog_1.table['significance']>=6.0]\n",
    "#source = sources[sources['src_names']==source_name]\n",
    "unique_sources=table.unique(sources, keys=['src_names'])"
   ]
  },
  {
   "cell_type": "code",
   "execution_count": null,
   "metadata": {},
   "outputs": [],
   "source": [
    "##Removes new sources and adds our if not found\n",
    "FLAG=0\n",
    "torm=[]\n",
    "for ID,n in enumerate(unique_sources['src_names']):\n",
    "    if(n[0:3]=='NEW'):\n",
    "        torm.append(ID)\n",
    "    if(n==source_name):\n",
    "        FLAG=1\n",
    "\n",
    "unique_sources.remove_rows(torm)\n",
    "nrows=len(unique_sources['src_names'])\n",
    "\n",
    "if FLAG==0:\n",
    "    unique_sources.add_row((0,source_name,0,ra,dec,0,2,0,0))\n",
    "\n",
    "image.dispatcher_catalog_1.table = unique_sources\n",
    "\n",
    "api_cat=image.dispatcher_catalog_1.get_api_dictionary()"
   ]
  },
  {
   "cell_type": "code",
   "execution_count": null,
   "metadata": {},
   "outputs": [],
   "source": [
    "spectrum = disp.get_product(instrument=\"isgri\", \n",
    "                 product=\"isgri_spectrum\", \n",
    "                 product_type=\"Real\", \n",
    "                 osa_version=osa_version,\n",
    "                 E1_keV=25.0,\n",
    "                 E2_keV=80.0,\n",
    "                 scw_list=scw_list_str,\n",
    "                 selected_cat=api_cat)"
   ]
  },
  {
   "cell_type": "code",
   "execution_count": null,
   "metadata": {},
   "outputs": [],
   "source": [
    "specprod=[l for l in spectrum._p_list if l.meta_data['src_name'] == source_name]    \n",
    "\n",
    "spec_fn=\"/tmp/isgri_spectrum_{}.fits\".format(source_name.replace(' ', '_'))\n",
    "arf_fn=\"/tmp/isgri_arf_{}.fits\".format(source_name.replace(' ', '_'))\n",
    "rmf_fn=\"/tmp/isgri_rmf_{}.fits\".format(source_name.replace(' ', '_'))\n",
    "\n",
    "specprod[0].write_fits_file(spec_fn)\n",
    "specprod[1].write_fits_file(arf_fn)\n",
    "specprod[2].write_fits_file(rmf_fn)"
   ]
  },
  {
   "cell_type": "code",
   "execution_count": null,
   "metadata": {},
   "outputs": [],
   "source": [
    "\n",
    "from IPython.display import Image\n",
    "from IPython.display import display \n",
    "import xspec\n",
    "import shutil\n",
    "\n"
   ]
  },
  {
   "cell_type": "code",
   "execution_count": null,
   "metadata": {},
   "outputs": [],
   "source": [
    "from astropy.io import fits\n",
    "\n",
    "f=fits.open(reference_dir+\"/\"+reference_spectrum)\n",
    "f[2].header['RESPFILE'] = 'NONE'\n",
    "\n",
    "#f[2].header['RESPFILE']\n",
    "\n",
    "f.writeto(\"reference_spec.fits\", overwrite=True)\n",
    "\n",
    "f=fits.open(reference_dir+\"/\"+reference_rmf)\n",
    "f.writeto(\"reference_rmf.fits\", overwrite=True)\n",
    "\n",
    "#    s_ref.response=reference_rmf\n",
    "\n",
    "#    s_ref.response=reference_rmf\n",
    "    "
   ]
  },
  {
   "cell_type": "code",
   "execution_count": null,
   "metadata": {
    "tags": [
     "outputs"
    ]
   },
   "outputs": [],
   "source": [
    "reference_spec=\"reference_spec.fits\"\n",
    "reference_rmf=\"reference_rmf.fits\"\n",
    "isgri_spec=spec_fn\n",
    "isgri_arf=arf_fn\n",
    "isgri_rmf=rmf_fn"
   ]
  }
 ],
 "metadata": {
  "celltoolbar": "Tags",
  "kernelspec": {
   "display_name": "Python 3",
   "language": "python",
   "name": "python3"
  },
  "language_info": {
   "codemirror_mode": {
    "name": "ipython",
    "version": 3
   },
   "file_extension": ".py",
   "mimetype": "text/x-python",
   "name": "python",
   "nbconvert_exporter": "python",
   "pygments_lexer": "ipython3",
   "version": "3.6.9"
  }
 },
 "nbformat": 4,
 "nbformat_minor": 2
}
