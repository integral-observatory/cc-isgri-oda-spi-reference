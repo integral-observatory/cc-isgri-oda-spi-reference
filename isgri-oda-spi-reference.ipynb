{
 "cells": [
  {
   "cell_type": "code",
   "execution_count": null,
   "metadata": {
    "tags": [
     "parameters"
    ]
   },
   "outputs": [],
   "source": [
    "subcases_pattern=\"_0774\" \n",
    "reference_location=\"../..\" \n",
    "source_name=\"Crab\"\n",
    "osa_version='OSA10.2'\n",
    "nscw=3\n",
    "mosaic=0\n",
    "chi2_limit=1.2\n",
    "systematic_fraction=0.01"
   ]
  },
  {
   "cell_type": "code",
   "execution_count": null,
   "metadata": {},
   "outputs": [],
   "source": [
    "if reference_location == \"None\": # shortcut of C.\n",
    "    reference_location = \"https://www.isdc.unige.ch/~ferrigno/Downloads/subcases_herX1_spi.tgz\"\n",
    "    \n",
    "if reference_location.startswith(\"http://\") or reference_location.startswith(\"https://\"):\n",
    "    import tarfile\n",
    "    import requests\n",
    "    import io\n",
    "    import gzip\n",
    "    \n",
    "    f = gzip.open(io.BytesIO(requests.get(reference_location).content), \"rb\")\n",
    "    \n",
    "    \n",
    "    with tarfile.TarFile(fileobj=f,  encoding=\"UTF-8\") as tf:\n",
    "        print(tf.getmembers())\n",
    "        tf.extractall()\n",
    "        \n",
    "    reference_location='.'"
   ]
  },
  {
   "cell_type": "markdown",
   "metadata": {},
   "source": [
    "#  ISGRI verification with SPI reference \n",
    "\n",
    "simultaneous observations allow easy comparisong\n",
    "\n",
    "one should take care to have the same effective selection\n",
    "\n",
    "normalization need to be fitted and reported"
   ]
  },
  {
   "cell_type": "code",
   "execution_count": null,
   "metadata": {},
   "outputs": [],
   "source": [
    "%matplotlib notebook\n",
    "#import matplotlib.pylab as plt\n",
    "\n",
    "\n",
    "import importlib\n",
    "from astroquery.simbad import Simbad\n",
    "from astropy import coordinates as coord\n",
    "import os\n",
    "import numpy as np\n",
    "import pandas as pd\n",
    "import glob\n"
   ]
  },
  {
   "cell_type": "code",
   "execution_count": null,
   "metadata": {},
   "outputs": [],
   "source": [
    "\n",
    "subcase=None\n",
    "\n",
    "reference_spectrum = None\n",
    "reference_rmf = None\n",
    "scwlist=None\n",
    "\n",
    "subcases_tried = []\n",
    "\n",
    "for subcase_dir in glob.glob(reference_location+\"/subcases/*\"+subcases_pattern+\"*\"):\n",
    "    print(\"found subcase in reference location dir:\", subcase_dir)\n",
    "    \n",
    "    fns = [os.path.basename(fn) for fn in glob.glob(subcase_dir+\"/*\")]\n",
    "    \n",
    "    try:\n",
    "        reference_spectrum = [fn for fn in fns if fn.startswith(\"spectrum\")][0]\n",
    "        scwlist = open(subcase_dir+\"/ISGRI_scw_list.txt\").read().split()       \n",
    "        \n",
    "        reference_rmf = sorted([fn for fn in fns if fn.startswith(\"rmf_\")])[-1]\n",
    "    except Exception as e: \n",
    "        print(\"failed to find spi rmf/spec have\",fns, \"exception:\", e)\n",
    "        \n",
    "        subcases_tried.append(f\"{subcase_dir}: {e}, files {fns}\")\n",
    "        \n",
    "        continue\n",
    "    \n",
    "    if os.path.exists(subcase_dir+\"/ISGRI_sources.txt\"):\n",
    "        ref_sources = pd.read_csv(subcase_dir+\"/ISGRI_sources.txt\", delimiter=\",\")\n",
    "        print(\"read reference sources:\", ref_sources)\n",
    "    else:\n",
    "        print(\"no reference sources, will use empty\")\n",
    "        ref_sources = []\n",
    "            \n",
    "    reference_dir=subcase_dir\n",
    "    \n",
    "       \n",
    "    break\n",
    "\n",
    "if scwlist is None:    \n",
    "    print(\"unable to find spi: will NOT try without\")\n",
    "    raise Exception(f\"subcase is not complete: no SPI or ISGRI data found, tried: {'; '.join(subcases_tried)}\")\n",
    "\n",
    "    \n",
    "print(\"found\",reference_dir, reference_spectrum, len(scwlist),len(ref_sources), ref_sources)\n",
    "\n",
    "    \n",
    "reference_spectrum, reference_rmf, scwlist"
   ]
  },
  {
   "cell_type": "code",
   "execution_count": null,
   "metadata": {},
   "outputs": [],
   "source": [
    "ref_sources"
   ]
  },
  {
   "cell_type": "code",
   "execution_count": null,
   "metadata": {},
   "outputs": [],
   "source": [
    "result_table = Simbad.query_object(source_name)\n",
    "\n",
    "if result_table is None:\n",
    "    print(f\"\\033[31mdid not find any Simbad results for {source_name}\\033[0m\")\n",
    "    raise RuntimeError(f\"\\033[31mdid not find any Simbad results for {source_name}\\033[0m\")\n",
    "\n",
    "source_coord = coord.SkyCoord(result_table['RA'][0], result_table['DEC'][0], unit=(\"hourangle\", \"deg\"))\n",
    "\n",
    "\n",
    "result_table"
   ]
  },
  {
   "cell_type": "code",
   "execution_count": null,
   "metadata": {},
   "outputs": [],
   "source": [
    "import random\n",
    "if nscw >0:\n",
    "    random.seed(0)\n",
    "    cleaned_list = [\n",
    "                s+\".\"+\"001\"\n",
    "                for s in list(sorted(set( scwlist  ))) \n",
    "                if s.endswith(\"0010\")\n",
    "            ]\n",
    "    if len(cleaned_list) > nscw:\n",
    "        scw_pick = random.sample(cleaned_list,nscw)\n",
    "    else:\n",
    "        print(\"nscw (%d) > than available scw (%d), using them all\"%(nscw,len(cleaned_list)))\n",
    "        scw_pick = cleaned_list\n",
    "\n",
    "\n",
    "    scw_list_str = \",\".join(scw_pick)\n",
    "else:\n",
    "    scw_list_str=\",\".join([s+\".\"+\"001\" for s in sorted(set( scwlist  ))])\n",
    "\n",
    "print(len(scw_list_str))\n",
    "\n",
    "scw_list_str"
   ]
  },
  {
   "cell_type": "code",
   "execution_count": null,
   "metadata": {},
   "outputs": [],
   "source": [
    "import oda_api.api\n",
    "import importlib\n",
    "importlib.reload(oda_api)\n",
    "\n",
    "# osa versions with '-' use ic root version, only available on staging-1-3\n",
    "print('will find appropriate API for OSA version', osa_version)\n",
    "if '-' in osa_version:\n",
    "    print('osa version has subversion - will use staging-1-3')\n",
    "    disp = oda_api.api.DispatcherAPI(host=\"http://in.internal.odahub.io/staging-1-3/dispatcher\")\n",
    "else:\n",
    "    try:\n",
    "        disp = oda_api.api.DispatcherAPI(host=\"http://cdcihn.isdc.unige.ch/staging-1.2/dispatcher\")\n",
    "        disp.get_instrument_description(\"isgri\")    \n",
    "    except Exception as e:\n",
    "        print('\\033[31mFAILED to access staging-1-2, will proceed to query production: note that it can not access private data!\\033[0m')\n",
    "        print('\\033[31mexception was: ', e,'\\033[0m')\n",
    "        try:\n",
    "            disp = oda_api.api.DispatcherAPI(host='https://www.astro.unige.ch/cdci/astrooda/dispatch-data')\n",
    "            disp.get_instrument_description(\"isgri\")\n",
    "        except:\n",
    "            raise ConnectionError\n",
    "\n",
    "\n"
   ]
  },
  {
   "cell_type": "code",
   "execution_count": null,
   "metadata": {},
   "outputs": [],
   "source": [
    "image = disp.get_product(instrument=\"isgri\", \n",
    "                 product=\"isgri_image\", \n",
    "                 product_type=\"Real\", \n",
    "                 osa_version=osa_version,\n",
    "                 E1_keV=25.0,\n",
    "                 E2_keV=80.0,\n",
    "                 scw_list=scw_list_str)\n"
   ]
  },
  {
   "cell_type": "code",
   "execution_count": null,
   "metadata": {},
   "outputs": [],
   "source": [
    "from astropy import table\n",
    "sources=image.dispatcher_catalog_1.table[image.dispatcher_catalog_1.table['significance']>=6.0]\n",
    "#source = sources[sources['src_names']==source_name]\n",
    "unique_sources=table.unique(sources, keys=['src_names'])\n",
    "\n",
    "unique_sources"
   ]
  },
  {
   "cell_type": "code",
   "execution_count": null,
   "metadata": {},
   "outputs": [],
   "source": [
    "##Removes new sources and adds our if not found\n",
    "FLAG=0\n",
    "torm=[]\n",
    "for ID,n in enumerate(unique_sources['src_names']):\n",
    "    if(n[0:3]=='NEW'):\n",
    "        torm.append(ID)\n",
    "    if(n==source_name):\n",
    "        FLAG=1\n",
    "\n",
    "unique_sources.remove_rows(torm)\n",
    "nrows=len(unique_sources['src_names'])\n",
    "\n",
    "if FLAG==0:\n",
    "    unique_sources.add_row((0,source_name,0,source_coord.ra.deg,source_coord.dec.deg,0,2,0,0))\n",
    "\n",
    "image.dispatcher_catalog_1.table = unique_sources\n",
    "\n",
    "api_cat=image.dispatcher_catalog_1.get_api_dictionary()\n",
    "\n",
    "api_cat"
   ]
  },
  {
   "cell_type": "code",
   "execution_count": null,
   "metadata": {},
   "outputs": [],
   "source": [
    "spectrum = disp.get_product(instrument=\"isgri\", \n",
    "                 product=\"isgri_spectrum\", \n",
    "                 product_type=\"Real\", \n",
    "                 osa_version=osa_version,\n",
    "                 E1_keV=25.0,\n",
    "                 E2_keV=80.0,\n",
    "                 scw_list=scw_list_str,\n",
    "                 selected_cat=api_cat)"
   ]
  },
  {
   "cell_type": "code",
   "execution_count": null,
   "metadata": {},
   "outputs": [],
   "source": [
    "for l in spectrum._p_list:\n",
    "    print(l.meta_data)"
   ]
  },
  {
   "cell_type": "code",
   "execution_count": null,
   "metadata": {},
   "outputs": [],
   "source": [
    "specprod=[l for l in spectrum._p_list if l.meta_data['src_name'] == source_name]    \n",
    "\n",
    "spec_fn=\"/tmp/isgri_spectrum_{}.fits\".format(source_name.replace(' ', '_').replace('+','p'))\n",
    "arf_fn=\"/tmp/isgri_arf_{}.fits\".format(source_name.replace(' ', '_').replace('+','p'))\n",
    "rmf_fn=\"/tmp/isgri_rmf_{}.fits\".format(source_name.replace(' ', '_').replace('+','p'))\n",
    "\n",
    "specprod[0].write_fits_file(spec_fn)\n",
    "specprod[1].write_fits_file(arf_fn)\n",
    "specprod[2].write_fits_file(rmf_fn)"
   ]
  },
  {
   "cell_type": "code",
   "execution_count": null,
   "metadata": {},
   "outputs": [],
   "source": [
    "\n",
    "from IPython.display import Image\n",
    "from IPython.display import display \n",
    "import xspec\n",
    "import shutil\n",
    "\n"
   ]
  },
  {
   "cell_type": "code",
   "execution_count": null,
   "metadata": {},
   "outputs": [],
   "source": [
    "from astropy.io import fits\n",
    "\n",
    "if reference_spectrum is not None:\n",
    "    f=fits.open(reference_dir+\"/\"+reference_spectrum)\n",
    "\n",
    "    try:\n",
    "        f[2].header['RESPFILE'] = 'NONE'\n",
    "    except:\n",
    "        f=fits.HDUList([f[0],fits.ImageHDU(),f[1]])\n",
    "        f[2].header['RESPFILE'] = 'NONE'\n",
    "\n",
    "    #f[2].header['RESPFILE']\n",
    "\n",
    "    f.writeto(\"reference_spec.fits\", overwrite=True)\n",
    "\n",
    "    f=fits.open(reference_dir+\"/\"+reference_rmf)\n",
    "    f.writeto(\"reference_rmf.fits\", overwrite=True)\n",
    "    \n",
    "    reference_spec=\"reference_spec.fits\"\n",
    "    reference_rmf=\"reference_rmf.fits\"\n",
    "else:\n",
    "    reference_spec=\"NONE\"\n",
    "    reference_rmf=\"NONE\"\n",
    "\n",
    "    "
   ]
  },
  {
   "cell_type": "code",
   "execution_count": null,
   "metadata": {
    "tags": [
     "outputs"
    ]
   },
   "outputs": [],
   "source": [
    "reference_spec=reference_spec\n",
    "reference_rmf=reference_rmf\n",
    "isgri_spec=spec_fn\n",
    "isgri_arf=arf_fn\n",
    "isgri_rmf=rmf_fn"
   ]
  }
 ],
 "metadata": {
  "celltoolbar": "Tags",
  "kernelspec": {
   "display_name": "Python 3",
   "language": "python",
   "name": "python3"
  },
  "language_info": {
   "codemirror_mode": {
    "name": "ipython",
    "version": 3
   },
   "file_extension": ".py",
   "mimetype": "text/x-python",
   "name": "python",
   "nbconvert_exporter": "python",
   "pygments_lexer": "ipython3",
   "version": "3.8.2"
  }
 },
 "nbformat": 4,
 "nbformat_minor": 2
}
