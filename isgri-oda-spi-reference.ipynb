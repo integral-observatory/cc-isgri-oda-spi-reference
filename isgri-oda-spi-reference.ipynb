{
 "cells": [
  {
   "cell_type": "code",
   "execution_count": 1,
   "metadata": {
    "tags": [
     "parameters"
    ]
   },
   "outputs": [],
   "source": [
    "subcases_pattern=\"_1\"\n",
    "reference_location=\"../..\"\n",
    "source_name=\"Her X-1\"\n",
    "osa_version='OSA10.2'\n",
    "nscw=3\n",
    "mosaic=0\n",
    "chi2_limit=1.2\n",
    "systematic_fraction=0.01"
   ]
  },
  {
   "cell_type": "markdown",
   "metadata": {},
   "source": [
    "#  ISGRI verification with SPI reference\n",
    "\n",
    "simultaneous observations allow easy comparisong\n",
    "\n",
    "one should take care to have the same effective selection\n",
    "\n",
    "normalization need to be fitted and reported"
   ]
  },
  {
   "cell_type": "code",
   "execution_count": 2,
   "metadata": {},
   "outputs": [],
   "source": [
    "%matplotlib notebook\n",
    "import matplotlib.pylab as plt\n",
    "\n",
    "\n",
    "import numpy as np\n",
    "import importlib\n",
    "from astroquery.simbad import Simbad\n",
    "from astropy import coordinates as coord\n",
    "import os\n",
    "import numpy as np\n",
    "import glob\n"
   ]
  },
  {
   "cell_type": "code",
   "execution_count": 3,
   "metadata": {},
   "outputs": [
    {
     "data": {
      "text/plain": [
       "'../..'"
      ]
     },
     "execution_count": 3,
     "metadata": {},
     "output_type": "execute_result"
    }
   ],
   "source": [
    "reference_location\n",
    "\n",
    "# if reference_location  not git or http may be a problem\n",
    "# dependency injection for this, if can"
   ]
  },
  {
   "cell_type": "code",
   "execution_count": 4,
   "metadata": {},
   "outputs": [
    {
     "name": "stdout",
     "output_type": "stream",
     "text": [
      "inspecting ../../subcases/Her_X-1_1975\n",
      "found ../../subcases/Her_X-1_1975 spectrum_hx1_photo_Her_X-1_avrg.fits 81 0 []\n"
     ]
    },
    {
     "data": {
      "text/plain": [
       "('spectrum_hx1_photo_Her_X-1_avrg.fits', 'rmf_hx1_photo_Her_X-1_avrg.fits')"
      ]
     },
     "execution_count": 4,
     "metadata": {},
     "output_type": "execute_result"
    }
   ],
   "source": [
    "\n",
    "subcase=None\n",
    "\n",
    "reference_spectrum = None\n",
    "\n",
    "for subcase_dir in glob.glob(reference_location+\"/subcases/*\"+subcases_pattern+\"*\"):\n",
    "    print(\"inspecting\", subcase_dir)\n",
    "    \n",
    "    fns = [os.path.basename(fn) for fn in glob.glob(subcase_dir+\"/*\")]\n",
    "    \n",
    "    try:\n",
    "        reference_spectrum = [fn for fn in fns if fn.startswith(\"spectrum\")][0]\n",
    "        scwlist = open(subcase_dir+\"/ISGRI_scw_list.txt\").read().split()       \n",
    "        \n",
    "        reference_rmf = sorted([fn for fn in fns if fn.startswith(\"rmf_\")])[-1]\n",
    "    except: continue\n",
    "    \n",
    "    try:\n",
    "        ref_sources = np.genfromtxt(subcase_dir+\"/ISGRI_sources.txt\", delimiter=\",\", names=True)\n",
    "    except:\n",
    "        ref_sources = []\n",
    "        \n",
    "    #print(fns)\n",
    "    \n",
    "    reference_dir=subcase_dir\n",
    "    \n",
    "    print(\"found\",reference_dir, reference_spectrum, len(scwlist),len(ref_sources), ref_sources)\n",
    "        \n",
    "    break\n",
    "        \n",
    "reference_spectrum, reference_rmf"
   ]
  },
  {
   "cell_type": "code",
   "execution_count": 5,
   "metadata": {},
   "outputs": [
    {
     "data": {
      "text/html": [
       "&lt;Table masked=True length=1&gt;\n",
       "<table id=\"table140300263291648\" class=\"table-striped table-bordered table-condensed\">\n",
       "<thead><tr><th>MAIN_ID</th><th>RA</th><th>DEC</th><th>RA_PREC</th><th>DEC_PREC</th><th>COO_ERR_MAJA</th><th>COO_ERR_MINA</th><th>COO_ERR_ANGLE</th><th>COO_QUAL</th><th>COO_WAVELENGTH</th><th>COO_BIBCODE</th></tr></thead>\n",
       "<thead><tr><th></th><th>&quot;h:m:s&quot;</th><th>&quot;d:m:s&quot;</th><th></th><th></th><th>mas</th><th>mas</th><th>deg</th><th></th><th></th><th></th></tr></thead>\n",
       "<thead><tr><th>object</th><th>str13</th><th>str13</th><th>int16</th><th>int16</th><th>float32</th><th>float32</th><th>int16</th><th>str1</th><th>str1</th><th>object</th></tr></thead>\n",
       "<tr><td>V* HZ Her</td><td>16 57 49.8110</td><td>+35 20 32.487</td><td>14</td><td>14</td><td>0.022</td><td>0.024</td><td>90</td><td>A</td><td>O</td><td>2018yCat.1345....0G</td></tr>\n",
       "</table>"
      ],
      "text/plain": [
       "<Table masked=True length=1>\n",
       " MAIN_ID        RA           DEC      ... COO_WAVELENGTH     COO_BIBCODE    \n",
       "             \"h:m:s\"       \"d:m:s\"    ...                                   \n",
       "  object      str13         str13     ...      str1             object      \n",
       "--------- ------------- ------------- ... -------------- -------------------\n",
       "V* HZ Her 16 57 49.8110 +35 20 32.487 ...              O 2018yCat.1345....0G"
      ]
     },
     "execution_count": 5,
     "metadata": {},
     "output_type": "execute_result"
    }
   ],
   "source": [
    "result_table = Simbad.query_object(source_name)\n",
    "source_coord = coord.SkyCoord(result_table['RA'][0], result_table['DEC'][0], unit=(\"hourangle\", \"deg\"))\n",
    "\n",
    "result_table"
   ]
  },
  {
   "cell_type": "code",
   "execution_count": 6,
   "metadata": {},
   "outputs": [
    {
     "data": {
      "text/plain": [
       "'197600350010.001,197600390010.001,197500420010.001'"
      ]
     },
     "execution_count": 6,
     "metadata": {},
     "output_type": "execute_result"
    }
   ],
   "source": [
    "import random\n",
    "\n",
    "random.seed(0)\n",
    "scw_pick = random.sample([\n",
    "            s+\".\"+\"001\"\n",
    "            for s in list(sorted(set( scwlist  ))) \n",
    "            if s.endswith(\"0010\")\n",
    "        ],nscw)\n",
    "\n",
    "\n",
    "scw_list_str = \",\".join(scw_pick)\n",
    "scw_list_str"
   ]
  },
  {
   "cell_type": "code",
   "execution_count": 7,
   "metadata": {},
   "outputs": [
    {
     "name": "stdout",
     "output_type": "stream",
     "text": [
      "\n",
      "--------------\n",
      "instrumet: isgri\n",
      "\n",
      "--------------\n",
      "query_name: src_query\n",
      " name: src_name,  value: test,  units: str, \n",
      " name: RA,  value: 0.0,  units: deg, \n",
      " name: DEC,  value: 0.0,  units: deg, \n",
      " name: T1,  value: 2001-12-11T00:00:00.000,  units: None, \n",
      " name: T2,  value: 2001-12-11T00:00:00.000,  units: None, \n",
      "\n",
      "--------------\n",
      "query_name: isgri_parameters\n",
      " name: user_catalog,  value: None,  units: str, \n",
      " name: scw_list,  value: [],  units: names_list, \n",
      " name: radius,  value: 5.0,  units: deg, \n",
      " name: max_pointings,  value: 50,  units: None, \n",
      " name: osa_version,  value: None,  units: str, \n",
      " name: E1_keV,  value: 10.0,  units: keV, \n",
      " name: E2_keV,  value: 40.0,  units: keV, \n",
      "\n",
      "--------------\n",
      "query_name: isgri_image_query\n",
      " product_name: isgri_image\n",
      " name: detection_threshold,  value: 0.0,  units: sigma, \n",
      " name: image_scale_min,  value: None,  units: None, \n",
      " name: image_scale_max,  value: None,  units: None, \n",
      "\n",
      "--------------\n",
      "query_name: isgri_spectrum_query\n",
      " product_name: isgri_spectrum\n",
      "\n",
      "--------------\n",
      "query_name: isgri_lc_query\n",
      " product_name: isgri_lc\n",
      " name: time_bin,  value: 1000.0,  units: sec, \n",
      "\n",
      "--------------\n",
      "query_name: spectral_fit_query\n",
      " product_name: spectral_fit\n",
      " name: xspec_model,  value: powerlaw,  units: str, \n",
      " name: ph_file_name,  value: ,  units: str, \n",
      " name: arf_file_name,  value: ,  units: str, \n",
      " name: rmf_file_name,  value: ,  units: str, \n"
     ]
    }
   ],
   "source": [
    "import oda_api.api\n",
    "import importlib\n",
    "importlib.reload(oda_api)\n",
    "\n",
    "disp = oda_api.api.DispatcherAPI(host=\"http://cdcihn/staging-1.2/dispatcher\")\n",
    "\n",
    "disp.get_instrument_description(\"isgri\")\n",
    "\n"
   ]
  },
  {
   "cell_type": "code",
   "execution_count": 8,
   "metadata": {},
   "outputs": [],
   "source": [
    "by_lt={}\n",
    "\n",
    "if mosaic == 1:\n",
    "\n",
    "    for c_emin in np.linspace(20,35,2):\n",
    "\n",
    "        image = disp.get_product(instrument=\"isgri\", \n",
    "                         product=\"isgri_image\", \n",
    "                         product_type=\"Real\", \n",
    "                         osa_version=osa_version,\n",
    "                         E1_keV=np.round(c_emin),\n",
    "                         E2_keV=80.0,\n",
    "                         scw_list=scw_list_str)\n",
    "\n",
    "        sources=image.dispatcher_catalog_1.table[image.dispatcher_catalog_1.table['src_names']==source_name]\n",
    "        source=sources[np.argmax(sources['significance'])]\n",
    "        source\n",
    "\n",
    "        d=image.mosaic_image_0.data_unit[1].data\n",
    "\n",
    "\n",
    "        img=np.array(d.data)\n",
    "\n",
    "        m_bkg=img<10\n",
    "        m_bkg&=img!=0\n",
    "\n",
    "        img_std = np.std(img[m_bkg])\n",
    "\n",
    "        img[np.array(img)>img_std*5]=img_std*5\n",
    "\n",
    "        plt.imshow(img)\n",
    "\n",
    "        by_lt['%.10lg'%c_emin]=dict(\n",
    "            emin=c_emin,            \n",
    "            imgstd=img_std,\n",
    "        )\n",
    "        by_lt['%.10lg'%c_emin].update(dict([(n, source[n]) for n in source.colnames]))\n",
    "\n",
    "        \n",
    "    for lt, c in by_lt.items():\n",
    "        print(lt, c['significance'],c['significance']/c['imgstd'])"
   ]
  },
  {
   "cell_type": "code",
   "execution_count": 9,
   "metadata": {},
   "outputs": [
    {
     "name": "stdout",
     "output_type": "stream",
     "text": [
      "197600350010.001,197600390010.001,197500420010.001\n",
      "waiting for remote response, please wait run_analysis http://cdcihn/staging-1.2/dispatcher\n",
      "the job has been submitted on the remote server\n",
      " - the job is working remotely, please wait status=done - job_id=1695298893903979030  30  \n",
      "\n",
      "query done succesfully!\n"
     ]
    }
   ],
   "source": [
    "spectrum = disp.get_product(instrument=\"isgri\", \n",
    "                 product=\"isgri_spectrum\", \n",
    "                 product_type=\"Real\", \n",
    "                 osa_version=osa_version,\n",
    "                 E1_keV=25.0,\n",
    "                 E2_keV=80.0,\n",
    "                 scw_list=scw_list_str)"
   ]
  },
  {
   "cell_type": "code",
   "execution_count": 10,
   "metadata": {},
   "outputs": [
    {
     "name": "stderr",
     "output_type": "stream",
     "text": [
      "WARNING: VerifyWarning: Keyword name 'instrument' is greater than 8 characters or contains characters not allowed by the FITS standard; a HIERARCH card will be created. [astropy.io.fits.card]\n",
      "WARNING: VerifyWarning: Keyword name 'osa_version' is greater than 8 characters or contains characters not allowed by the FITS standard; a HIERARCH card will be created. [astropy.io.fits.card]\n",
      "WARNING: VerifyWarning: Keyword name 'product_type' is greater than 8 characters or contains characters not allowed by the FITS standard; a HIERARCH card will be created. [astropy.io.fits.card]\n",
      "WARNING: VerifyWarning: Keyword name 'query_status' is greater than 8 characters or contains characters not allowed by the FITS standard; a HIERARCH card will be created. [astropy.io.fits.card]\n",
      "WARNING: VerifyWarning: Keyword name 'query_type' is greater than 8 characters or contains characters not allowed by the FITS standard; a HIERARCH card will be created. [astropy.io.fits.card]\n",
      "WARNING: VerifyWarning: Keyword name 'session_id' is greater than 8 characters or contains characters not allowed by the FITS standard; a HIERARCH card will be created. [astropy.io.fits.card]\n"
     ]
    }
   ],
   "source": [
    "specprod=[l for l in spectrum._p_list if l.meta_data['src_name'] == source_name]    \n",
    "\n",
    "spec_fn=\"/tmp/isgri_spectrum_{}.fits\".format(source_name)\n",
    "arf_fn=\"/tmp/isgri_arf_{}.fits\".format(source_name)\n",
    "rmf_fn=\"/tmp/isgri_rmf_{}.fits\".format(source_name)\n",
    "\n",
    "specprod[0].write_fits_file(spec_fn)\n",
    "specprod[1].write_fits_file(arf_fn)\n",
    "specprod[2].write_fits_file(rmf_fn)"
   ]
  },
  {
   "cell_type": "code",
   "execution_count": 11,
   "metadata": {},
   "outputs": [],
   "source": [
    "\n",
    "from IPython.display import Image\n",
    "from IPython.display import display \n",
    "import xspec\n",
    "import shutil\n",
    "\n"
   ]
  },
  {
   "cell_type": "code",
   "execution_count": 12,
   "metadata": {},
   "outputs": [],
   "source": [
    "from astropy.io import fits\n",
    "\n",
    "f=fits.open(reference_dir+\"/\"+reference_spectrum)\n",
    "f[2].header['RESPFILE'] = 'NONE'\n",
    "\n",
    "#f[2].header['RESPFILE']\n",
    "\n",
    "f.writeto(\"reference_spec.fits\", overwrite=True)\n",
    "\n",
    "f=fits.open(reference_dir+\"/\"+reference_rmf)\n",
    "f.writeto(\"reference_rmf.fits\", overwrite=True)\n",
    "\n",
    "#    s_ref.response=reference_rmf\n",
    "\n",
    "#    s_ref.response=reference_rmf\n",
    "    "
   ]
  },
  {
   "cell_type": "code",
   "execution_count": 13,
   "metadata": {
    "tags": [
     "outputs"
    ]
   },
   "outputs": [],
   "source": [
    "reference_spec=\"reference_spec.fits\"\n",
    "reference_rmf=\"reference_rmf.fits\"\n",
    "isgri_spec=spec_fn\n",
    "isgri_arf=arf_fn\n",
    "isgri_rmf=rmf_fn"
   ]
  }
 ],
 "metadata": {
  "celltoolbar": "Tags",
  "kernelspec": {
   "display_name": "Python 3",
   "language": "python",
   "name": "python3"
  },
  "language_info": {
   "codemirror_mode": {
    "name": "ipython",
    "version": 3
   },
   "file_extension": ".py",
   "mimetype": "text/x-python",
   "name": "python",
   "nbconvert_exporter": "python",
   "pygments_lexer": "ipython3",
   "version": "3.6.9"
  }
 },
 "nbformat": 4,
 "nbformat_minor": 2
}
